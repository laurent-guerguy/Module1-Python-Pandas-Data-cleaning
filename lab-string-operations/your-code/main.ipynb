{
 "cells": [
  {
   "cell_type": "markdown",
   "metadata": {},
   "source": [
    "# Before your start:\n",
    "- Read the README.md file\n",
    "- Comment as much as you can and use the resources in the README.md file\n",
    "- Happy learning!"
   ]
  },
  {
   "cell_type": "code",
   "execution_count": null,
   "metadata": {},
   "outputs": [],
   "source": [
    "import re"
   ]
  },
  {
   "cell_type": "markdown",
   "metadata": {},
   "source": [
    "# Challenge 1 - Combining Strings\n",
    "\n",
    "Combining strings is an important skill to acquire. There are multiple ways of combining strings in Python, as well as combining strings with variables. We will explore this in the first challenge. In the cell below, combine the strings in the list and add spaces between the strings (do not add a space after the last string). Insert a period after the last string."
   ]
  },
  {
   "cell_type": "code",
   "execution_count": 3,
   "metadata": {},
   "outputs": [
    {
     "name": "stdout",
     "output_type": "stream",
     "text": [
      "Durante un tiempo no estuvo segura de si su marido era su marido.\n"
     ]
    }
   ],
   "source": [
    "str_list = ['Durante', 'un', 'tiempo', 'no', 'estuvo', 'segura', 'de', 'si', 'su', 'marido', 'era', 'su', 'marido']\n",
    "# Your code here:\n",
    "print(\" \".join(str_list) + \".\")\n"
   ]
  },
  {
   "cell_type": "markdown",
   "metadata": {},
   "source": [
    "In the cell below, use the list of strings to create a grocery list. Start the list with the string `Grocery list: ` and include a comma and a space between each item except for the last one. Include a period at the end. Only include foods in the list that start with the letter 'b' and ensure all foods are lower case."
   ]
  },
  {
   "cell_type": "code",
   "execution_count": 14,
   "metadata": {},
   "outputs": [
    {
     "name": "stdout",
     "output_type": "stream",
     "text": [
      "['Bananas', 'bread', 'Brownie Mix', 'broccoli']\n",
      "Grocery list: bananas, bread, brownie mix, broccoli.\n"
     ]
    }
   ],
   "source": [
    "food_list = ['Bananas', 'Chocolate', 'bread', 'diapers', 'Ice Cream', 'Brownie Mix', 'broccoli']\n",
    "# Your code here:\n",
    "grocery = []\n",
    "for i in food_list:\n",
    "    if i[0] in (\"b\",\"B\"):\n",
    "        grocery.append(i)\n",
    "print(grocery)\n",
    "a = \", \".join(grocery)\n",
    "b = a.lower()\n",
    "print(\"Grocery list: \" + b + \".\")"
   ]
  },
  {
   "cell_type": "markdown",
   "metadata": {},
   "source": [
    "In the cell below, write a function that computes the area of a circle using its radius. Compute the area of the circle and insert the radius and the area between the two strings. Make sure to include spaces between the variable and the strings. \n",
    "\n",
    "Note: You can use the techniques we have learned so far or use f-strings. F-strings allow us to embed code inside strings. You can read more about f-strings [here](https://www.python.org/dev/peps/pep-0498/)."
   ]
  },
  {
   "cell_type": "code",
   "execution_count": 4,
   "metadata": {},
   "outputs": [
    {
     "name": "stdout",
     "output_type": "stream",
     "text": [
      "63.61725123519331\n",
      "The area of the circle with radius:4.5 is:63.61725123519331\n"
     ]
    }
   ],
   "source": [
    "import math\n",
    "\n",
    "string1 = \"The area of the circle with radius:\"\n",
    "string2  = \"is:\"\n",
    "radius = 4.5\n",
    "\n",
    "def area(x, pi = math.pi):\n",
    "    \"\"\"\n",
    "    This function takes a radius and returns the area of a circle. \n",
    "    We also pass a default value for pi.\n",
    "    \n",
    "    Input: Float (and default value for pi)\n",
    "    Output: Float\n",
    "    \n",
    "    Sample input: 5.0\n",
    "    Sample Output: 78.53981633\n",
    "    \"\"\"\n",
    "    \n",
    "    # Your code here:\n",
    "    a = math.pi * x**2\n",
    "    return a\n",
    "    \n",
    "# Your output string here:\n",
    "area1 = area(radius)\n",
    "print(area1)\n",
    "print(f\"The area of the circle with radius:{radius} is:{area1}\")"
   ]
  },
  {
   "cell_type": "markdown",
   "metadata": {},
   "source": [
    "# Challenge 2 - Splitting Strings\n",
    "\n",
    "We have first looked at combining strings into one long string. There are times where we need to do the opposite and split the string into smaller components for further analysis. \n",
    "\n",
    "In the cell below, split the string into a list of strings using the space delimiter. Count the frequency of each word in the string in a dictionary. Strip the periods, line breaks and commas from the text. Make sure to remove empty strings from your dictionary."
   ]
  },
  {
   "cell_type": "code",
   "execution_count": 7,
   "metadata": {},
   "outputs": [
    {
     "name": "stdout",
     "output_type": "stream",
     "text": [
      "The poem split into a list of strings is: \n",
      " ['Some', 'say', 'the', 'world', 'will', 'end', 'in', 'fire,', 'Some', 'say', 'in', 'ice.', 'From', 'what', 'I’ve', 'tasted', 'of', 'desire', 'I', 'hold', 'with', 'those', 'who', 'favor', 'fire.', 'But', 'if', 'it', 'had', 'to', 'perish', 'twice,', 'I', 'think', 'I', 'know', 'enough', 'of', 'hate', 'To', 'say', 'that', 'for', 'destruction', 'ice', 'Is', 'also', 'great', 'And', 'would', 'suffice.'] \n",
      "\n",
      "The list with removed characters like . or , is: \n",
      " ['Some', 'say', 'the', 'world', 'will', 'end', 'in', 'fire', 'Some', 'say', 'in', 'ice', 'From', 'what', 'I’ve', 'tasted', 'of', 'desire', 'I', 'hold', 'with', 'those', 'who', 'favor', 'fire', 'But', 'if', 'it', 'had', 'to', 'perish', 'twice', 'I', 'think', 'I', 'know', 'enough', 'of', 'hate', 'To', 'say', 'that', 'for', 'destruction', 'ice', 'Is', 'also', 'great', 'And', 'would', 'suffice'] \n",
      "\n",
      "The list with all small letters is: \n",
      " ['some', 'say', 'the', 'world', 'will', 'end', 'in', 'fire', 'some', 'say', 'in', 'ice', 'from', 'what', 'i’ve', 'tasted', 'of', 'desire', 'i', 'hold', 'with', 'those', 'who', 'favor', 'fire', 'but', 'if', 'it', 'had', 'to', 'perish', 'twice', 'i', 'think', 'i', 'know', 'enough', 'of', 'hate', 'to', 'say', 'that', 'for', 'destruction', 'ice', 'is', 'also', 'great', 'and', 'would', 'suffice'] \n",
      "\n",
      "The dictionary with the frequency of words is: \n",
      " {'some': 3.92, 'say': 5.88, 'the': 1.96, 'world': 1.96, 'will': 1.96, 'end': 1.96, 'in': 3.92, 'fire': 3.92, 'ice': 3.92, 'from': 1.96, 'what': 1.96, 'i’ve': 1.96, 'tasted': 1.96, 'of': 3.92, 'desire': 1.96, 'i': 5.88, 'hold': 1.96, 'with': 1.96, 'those': 1.96, 'who': 1.96, 'favor': 1.96, 'but': 1.96, 'if': 1.96, 'it': 1.96, 'had': 1.96, 'to': 3.92, 'perish': 1.96, 'twice': 1.96, 'think': 1.96, 'know': 1.96, 'enough': 1.96, 'hate': 1.96, 'that': 1.96, 'for': 1.96, 'destruction': 1.96, 'is': 1.96, 'also': 1.96, 'great': 1.96, 'and': 1.96, 'would': 1.96, 'suffice': 1.96} \n",
      "\n"
     ]
    }
   ],
   "source": [
    "poem = \"\"\"Some say the world will end in fire,\n",
    "Some say in ice.\n",
    "From what I’ve tasted of desire\n",
    "I hold with those who favor fire.\n",
    "But if it had to perish twice,\n",
    "I think I know enough of hate\n",
    "To say that for destruction ice\n",
    "Is also great\n",
    "And would suffice.\"\"\"\n",
    "\n",
    "# Your code here:\n",
    "# Split into a list of strings\n",
    "poem_lst = poem.split()\n",
    "print(f\"The poem split into a list of strings is: \\n {poem_lst} \\n\")\n",
    "\n",
    "\n",
    "# Remove characters like \".\" and \",\" if they are the last character of a string\n",
    "# Note: the variable j is created as a counter of the item number in the list poem_lst\n",
    "j=0\n",
    "for i in poem_lst:\n",
    "    if i[-1] in (\" \",\",\",\".\"):\n",
    "        poem_lst[j] = i[:-1]\n",
    "    j +=1\n",
    "print(f\"The list with removed characters like . or , is: \\n {poem_lst} \\n\")\n",
    "\n",
    "\n",
    "# Make all strings lower case\n",
    "poem_lst2 = [x.lower() for x in poem_lst]\n",
    "print(f\"The list with all small letters is: \\n {poem_lst2} \\n\")\n",
    "\n",
    "\n",
    "# Create the frequency dictionary\n",
    "frequency = {}\n",
    "\n",
    "\n",
    "# Calculate frequency of words\n",
    "# Assumptions: there are no numbers in the text and whitespace are whitespaces.\n",
    "for word in poem_lst2:\n",
    "    frequency[word] = round((poem_lst2.count(word) / len(poem_lst2)) * 100, 2)\n",
    "print(f\"The dictionary with the frequency of words is: \\n {frequency} \\n\")"
   ]
  },
  {
   "cell_type": "markdown",
   "metadata": {},
   "source": [
    "In the cell below, find all the words that appear in the text and do not appear in the blacklist. You must parse the string but can choose any data structure you wish for the words that do not appear in the blacklist. Remove all non letter characters and convert all words to lower case."
   ]
  },
  {
   "cell_type": "code",
   "execution_count": 14,
   "metadata": {},
   "outputs": [
    {
     "name": "stdout",
     "output_type": "stream",
     "text": [
      "The list of unique words not present in the blacklist is: \n",
      "{'tears', 'see', 'outstretched', 'told', 'the', 'it', 'into', 'fears', 'soft', 'grew', 'foe', 'bright', 'he', 'morning', 'beneath', 'i', 'knew', 'veild', 'did', 'end', 'not', 'wiles', 'shine', 'day', 'sunned', 'apple', 'had', 'both', 'bore', 'mine', 'waterd', 'when', 'in', 'smiles', 'tree', 'friend', 'with', '&', 'deceitful', 'beheld', 'was', 'night', 'garden', 'till', 'stole', 'angry', 'grow', 'my', 'glad', 'that', 'wrath', 'pole'} \n",
      "\n"
     ]
    }
   ],
   "source": [
    "blacklist = ['and', 'as', 'an', 'a', 'the', 'in', 'it']\n",
    "\n",
    "poem = \"\"\"I was angry with my friend; \n",
    "I told my wrath, my wrath did end.\n",
    "I was angry with my foe: \n",
    "I told it not, my wrath did grow. \n",
    "\n",
    "And I waterd it in fears,\n",
    "Night & morning with my tears: \n",
    "And I sunned it with smiles,\n",
    "And with soft deceitful wiles. \n",
    "\n",
    "And it grew both day and night. \n",
    "Till it bore an apple bright. \n",
    "And my foe beheld it shine,\n",
    "And he knew that it was mine. \n",
    "\n",
    "And into my garden stole, \n",
    "When the night had veild the pole; \n",
    "In the morning glad I see; \n",
    "My foe outstretched beneath the tree.\"\"\"\n",
    "\n",
    "# Your code here:\n",
    "\n",
    "# Split the poem in a list of words\n",
    "poem_lst = poem.split()\n",
    "\n",
    "\n",
    "# Remove characters like \".\" and \",\" if they are the last character of a string\n",
    "# Note: the variable j is created as a counter of the item number in the list poem_lst\n",
    "j=0\n",
    "for i in poem_lst:\n",
    "    if i[-1] in (\" \",\",\",\".\",\":\",\";\"):\n",
    "        poem_lst[j] = i[:-1]\n",
    "    j +=1\n",
    "\n",
    "\n",
    "# Make all strings lower case\n",
    "poem_lst2 = [x.lower() for x in poem_lst]\n",
    "\n",
    "\n",
    "# Give a list of words not present in the blacklist. This is given as a set so that the words are unique.\n",
    "for i in poem_lst2:\n",
    "    if i in blacklist:\n",
    "        poem_lst2.remove(i)\n",
    "poem_lst3 = set(poem_lst2)\n",
    "print(f\"The list of unique words not present in the blacklist is: \\n{poem_lst3} \\n\")\n"
   ]
  },
  {
   "cell_type": "markdown",
   "metadata": {},
   "source": [
    "# Challenge 3 - Regular Expressions\n",
    "\n",
    "Sometimes, we would like to perform more complex manipulations of our string. This is where regular expressions come in handy. In the cell below, return all characters that are upper case from the string specified below."
   ]
  },
  {
   "cell_type": "code",
   "execution_count": 19,
   "metadata": {},
   "outputs": [
    {
     "name": "stdout",
     "output_type": "stream",
     "text": [
      "['T', 'P']\n"
     ]
    }
   ],
   "source": [
    "poem = \"\"\"The apparition of these faces in the crowd;\n",
    "Petals on a wet, black bough.\"\"\"\n",
    "\n",
    "# Your code here:\n",
    "import re\n",
    "pattern = \"[A-Z]\"\n",
    "upper_case = re.findall(pattern, poem)\n",
    "print(upper_case)"
   ]
  },
  {
   "cell_type": "markdown",
   "metadata": {},
   "source": [
    "In the cell below, filter the list provided and return all elements of the list containing a number. To filter the list, use the `re.search` function. Check if the function does not return `None`. You can read more about the `re.search` function [here](https://docs.python.org/3/library/re.html)."
   ]
  },
  {
   "cell_type": "code",
   "execution_count": 29,
   "metadata": {},
   "outputs": [
    {
     "name": "stdout",
     "output_type": "stream",
     "text": [
      "['123abc', 'abc123', 'JohnSmith1', 'ABBY4']\n"
     ]
    }
   ],
   "source": [
    "data = ['123abc', 'abc123', 'JohnSmith1', 'ABBY4', 'JANE']\n",
    "\n",
    "# Your code here:\n",
    "import re\n",
    "\n",
    "# Creation of data2 list that will contain the answer\n",
    "data2 = []\n",
    "\n",
    "# Find the strings that contain numbers, Note they give a list with a result different to \"None\" if there is a number\n",
    "pattern = \"\\d\"\n",
    "number = [re.search(pattern, data[i]) for i in range(len(data))]\n",
    "\n",
    "# Loop on the number list and append the items of the data list to data2 if there is a number in this string\n",
    "for i in range(len(number)):\n",
    "    if number[i] != None:\n",
    "        data2.append(data[i])\n",
    "print(data2)"
   ]
  },
  {
   "cell_type": "markdown",
   "metadata": {},
   "source": [
    "# Bonus Challenge - Regular Expressions II\n",
    "\n",
    "In the cell below, filter the list provided to keep only strings containing at least one digit and at least one lower case letter. As in the previous question, use the `re.search` function and check that the result is not `None`.\n",
    "\n",
    "To read more about regular expressions, check out [this link](https://developers.google.com/edu/python/regular-expressions)."
   ]
  },
  {
   "cell_type": "code",
   "execution_count": 35,
   "metadata": {},
   "outputs": [
    {
     "name": "stdout",
     "output_type": "stream",
     "text": [
      "['123abc', 'abc123', 'JohnSmith1']\n"
     ]
    }
   ],
   "source": [
    "data = ['123abc', 'abc123', 'JohnSmith1', 'ABBY4', 'JANE']\n",
    "\n",
    "# Your code here:\n",
    "import re\n",
    "\n",
    "# Creation of data2 list that will contain the answer\n",
    "data2 = []\n",
    "\n",
    "# Find the strings that contain at least one number (pattern1) and at least one lower case (pattern2), \n",
    "# Note they give a list with a result different to \"None\" if there is repectiverly a number or a lower case\n",
    "pattern1 = \"\\d\"\n",
    "pattern2 = \"[a-z]\"\n",
    "number1 = [re.search(pattern1, data[i]) for i in range(len(data))]\n",
    "number2 = [re.search(pattern2, data[i]) for i in range(len(data))]\n",
    "\n",
    "# Compare the number1 and number2 lists to see the indexes thar are different to \"None\"\n",
    "for i in range(len(number1)):\n",
    "    if number1[i] != None and number2[i] != None:\n",
    "        data2.append(data[i])\n",
    "print(data2)"
   ]
  }
 ],
 "metadata": {
  "kernelspec": {
   "display_name": "Python 3",
   "language": "python",
   "name": "python3"
  },
  "language_info": {
   "codemirror_mode": {
    "name": "ipython",
    "version": 3
   },
   "file_extension": ".py",
   "mimetype": "text/x-python",
   "name": "python",
   "nbconvert_exporter": "python",
   "pygments_lexer": "ipython3",
   "version": "3.7.3"
  }
 },
 "nbformat": 4,
 "nbformat_minor": 2
}
