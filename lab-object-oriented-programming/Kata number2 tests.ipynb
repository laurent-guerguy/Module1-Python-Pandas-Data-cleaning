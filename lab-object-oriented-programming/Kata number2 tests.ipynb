{
 "cells": [
  {
   "cell_type": "code",
   "execution_count": null,
   "metadata": {},
   "outputs": [],
   "source": []
  },
  {
   "cell_type": "code",
   "execution_count": 7,
   "metadata": {},
   "outputs": [],
   "source": [
    "l = []\n",
    "\n",
    "integers_list =  [-18, -31, 81, -19, 111, -888]\n",
    "digits_list = [1, 3]\n"
   ]
  },
  {
   "cell_type": "code",
   "execution_count": 12,
   "metadata": {},
   "outputs": [
    {
     "name": "stdout",
     "output_type": "stream",
     "text": [
      "-18-3181-19111-888\n"
     ]
    }
   ],
   "source": [
    "s = \"\".join(str(i) for i in integers_list)\n",
    "print(s)"
   ]
  },
  {
   "cell_type": "code",
   "execution_count": 11,
   "metadata": {},
   "outputs": [
    {
     "name": "stdout",
     "output_type": "stream",
     "text": [
      "-888\n"
     ]
    }
   ],
   "source": [
    "for i in integers_list:\n",
    "    s = \"\".join(str(i))\n",
    "print(s)"
   ]
  },
  {
   "cell_type": "code",
   "execution_count": 16,
   "metadata": {},
   "outputs": [
    {
     "name": "stdout",
     "output_type": "stream",
     "text": [
      "[(1, 7), (3, 1)]\n"
     ]
    }
   ],
   "source": [
    "for digits in digits_list:\n",
    "    l = [(digit, s.count(str(digit))) for digit in digits_list]\n",
    "print(l)"
   ]
  },
  {
   "cell_type": "code",
   "execution_count": null,
   "metadata": {},
   "outputs": [],
   "source": []
  },
  {
   "cell_type": "code",
   "execution_count": null,
   "metadata": {},
   "outputs": [],
   "source": []
  },
  {
   "cell_type": "code",
   "execution_count": null,
   "metadata": {},
   "outputs": [],
   "source": [
    "for digit in digits_list:\n",
    "    [(dig, s.count(str(dig)))"
   ]
  },
  {
   "cell_type": "code",
   "execution_count": 14,
   "metadata": {},
   "outputs": [
    {
     "ename": "SyntaxError",
     "evalue": "invalid syntax (<ipython-input-14-5f2720ddae0e>, line 1)",
     "output_type": "error",
     "traceback": [
      "\u001b[0;36m  File \u001b[0;32m\"<ipython-input-14-5f2720ddae0e>\"\u001b[0;36m, line \u001b[0;32m1\u001b[0m\n\u001b[0;31m    str(i) for i in integers_list\u001b[0m\n\u001b[0m             ^\u001b[0m\n\u001b[0;31mSyntaxError\u001b[0m\u001b[0;31m:\u001b[0m invalid syntax\n"
     ]
    }
   ],
   "source": [
    "str(i) for i in integers_list"
   ]
  },
  {
   "cell_type": "code",
   "execution_count": null,
   "metadata": {},
   "outputs": [],
   "source": [
    "class List(object):\n",
    "    def count_spec_digits(self, integers_list, digits_list):\n",
    "        s = \"\".join(str(i) for i in integers_list)\n",
    "        return [(dig, s.count(str(dig))) for dig in digits_list]"
   ]
  },
  {
   "cell_type": "code",
   "execution_count": null,
   "metadata": {},
   "outputs": [],
   "source": [
    "class List(object):\n",
    "    def count_spec_digits(self, ar, digits):\n",
    "        return [(d, sum(str(n).count(str(d)) for n in ar)) for d in digits]"
   ]
  },
  {
   "cell_type": "code",
   "execution_count": null,
   "metadata": {},
   "outputs": [],
   "source": [
    "class List(object):\n",
    "    def count_spec_digits(self, integers_list, digits_list):\n",
    "        return [(d,''.join([str(n) for n in integers_list]).count(str(d))) for d in digits_list]"
   ]
  },
  {
   "cell_type": "code",
   "execution_count": null,
   "metadata": {},
   "outputs": [],
   "source": [
    "class List(object):\n",
    "    def count_spec_digits(self, integers_list, digits_list):\n",
    "        tmp = ''.join([str(abs(i)) for i in integers_list])\n",
    "        return [(i, tmp.count(str(i))) for i in digits_list]"
   ]
  }
 ],
 "metadata": {
  "kernelspec": {
   "display_name": "Python 3",
   "language": "python",
   "name": "python3"
  },
  "language_info": {
   "codemirror_mode": {
    "name": "ipython",
    "version": 3
   },
   "file_extension": ".py",
   "mimetype": "text/x-python",
   "name": "python",
   "nbconvert_exporter": "python",
   "pygments_lexer": "ipython3",
   "version": "3.7.3"
  }
 },
 "nbformat": 4,
 "nbformat_minor": 2
}
