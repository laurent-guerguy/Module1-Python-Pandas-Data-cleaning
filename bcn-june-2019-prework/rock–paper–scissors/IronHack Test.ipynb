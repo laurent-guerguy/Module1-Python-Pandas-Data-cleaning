{
 "cells": [
  {
   "cell_type": "code",
   "execution_count": 3,
   "metadata": {},
   "outputs": [
    {
     "name": "stdout",
     "output_type": "stream",
     "text": [
      "What do you choose? stone, paper or scissors?paper\n",
      "paper\n",
      "scissors\n",
      "Machine wins\n"
     ]
    }
   ],
   "source": [
    "import random\n",
    "outcomes = [\"stone\", \"paper\", \"scissors\"]\n",
    "def askChoice(x):\n",
    "    x = input(\"What do you choose? stone, paper or scissors?\")\n",
    "    if x not in outcomes:\n",
    "        x = input(\"Wrong answer! You can only choose one of the following: stone, paper or scissors\")\n",
    "    return x\n",
    "human = askChoice(outcomes)\n",
    "print(human)\n",
    "\n",
    "def randomResult(x):\n",
    "    y = random.choice(x)\n",
    "    return y\n",
    "machine = randomResult(outcomes)\n",
    "print(machine)\n",
    "\n",
    "\n",
    "def combat(x, y):\n",
    "    if x == y:\n",
    "        return \"This is a tie\"\n",
    "    elif x == \"stone\":\n",
    "        if y == \"paper\":\n",
    "            return \"Machine wins\"\n",
    "        elif y == \"scissors\":\n",
    "            return \"Human wins\"\n",
    "    elif x == \"paper\":\n",
    "        if y == \"stone\":\n",
    "            return \"Human wins\"\n",
    "        elif y == \"scissors\":\n",
    "            return \"Machine wins\"\n",
    "    elif x == \"scissors\":\n",
    "        if y == \"stone\":\n",
    "            return \"Machine wins\"\n",
    "        elif y == \"paper\":\n",
    "            return \"Human wins\"\n",
    "result = combat(human,machine)\n",
    "print(result)\n"
   ]
  },
  {
   "cell_type": "code",
   "execution_count": null,
   "metadata": {},
   "outputs": [],
   "source": []
  },
  {
   "cell_type": "code",
   "execution_count": null,
   "metadata": {},
   "outputs": [],
   "source": []
  }
 ],
 "metadata": {
  "kernelspec": {
   "display_name": "Python 3",
   "language": "python",
   "name": "python3"
  },
  "language_info": {
   "codemirror_mode": {
    "name": "ipython",
    "version": 3
   },
   "file_extension": ".py",
   "mimetype": "text/x-python",
   "name": "python",
   "nbconvert_exporter": "python",
   "pygments_lexer": "ipython3",
   "version": "3.7.3"
  }
 },
 "nbformat": 4,
 "nbformat_minor": 2
}
